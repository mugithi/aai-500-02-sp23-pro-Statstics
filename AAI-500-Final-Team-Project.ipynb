{
 "cells": [
  {
   "cell_type": "code",
   "execution_count": null,
   "id": "a5caae40-097e-4c3b-a79d-fa7ae769ac4d",
   "metadata": {},
   "outputs": [],
   "source": [
    "# Final Team Project\n",
    "Name:  Isaack Karanja  \n",
    "Name:  Sergey Ostrovsky  \n",
    "\n"
   ]
  }
 ],
 "metadata": {
  "environment": {
   "kernel": "python3",
   "name": "pytorch-gpu.1-12.m102",
   "type": "gcloud",
   "uri": "gcr.io/deeplearning-platform-release/pytorch-gpu.1-12:m102"
  },
  "kernelspec": {
   "display_name": "Python 3 (ipykernel)",
   "language": "python",
   "name": "python3"
  },
  "language_info": {
   "codemirror_mode": {
    "name": "ipython",
    "version": 3
   },
   "file_extension": ".py",
   "mimetype": "text/x-python",
   "name": "python",
   "nbconvert_exporter": "python",
   "pygments_lexer": "ipython3",
   "version": "3.7.12"
  }
 },
 "nbformat": 4,
 "nbformat_minor": 5
}
